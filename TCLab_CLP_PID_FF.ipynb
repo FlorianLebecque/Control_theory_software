{
 "cells": [
  {
   "cell_type": "markdown",
   "id": "f012e9e6-a0ad-4b1e-84a8-4d281698fa24",
   "metadata": {},
   "source": [
    "# TCLab_CLP_PID_FF"
   ]
  },
  {
   "cell_type": "code",
   "execution_count": 1,
   "id": "de54939a-214f-4778-a5cb-11365bc70fe1",
   "metadata": {},
   "outputs": [],
   "source": [
    "import numpy as np\n",
    "import matplotlib.pyplot as plt\n",
    "from IPython.display import display, clear_output\n",
    "\n",
    "from datetime import datetime\n",
    "import tclab\n",
    "import time\n",
    "\n",
    "import os\n",
    "\n",
    "from matplotlib import colors as mcolors\n",
    "\n",
    "import package_DBR\n",
    "from package_DBR import myRound, SelectPath_RT, Delay_RT, FO_RT, FOPDT, SOPDT, FOPDT_cost, SOPDT_cost, Process, Bode\n",
    "\n",
    "import package_LAB\n",
    "from package_LAB import LeadLag_RT, PID_RT, IMCTuning\n",
    "\n",
    "from importlib import reload\n",
    "package_DBR = reload(package_DBR)\n",
    "package_LAB = reload(package_LAB)"
   ]
  },
  {
   "cell_type": "markdown",
   "id": "95d58581-378d-4741-a6d2-ed0baf83ffa3",
   "metadata": {},
   "source": [
    "# Constants initialisation"
   ]
  },
  {
   "cell_type": "code",
   "execution_count": 2,
   "id": "145e7929-a5f6-4bcd-af81-b6bdead21c58",
   "metadata": {},
   "outputs": [],
   "source": [
    "TSim = 2000\n",
    "Ts = 1\n",
    "N = int(TSim/Ts) + 1"
   ]
  },
  {
   "cell_type": "code",
   "execution_count": 3,
   "id": "9901d9f5-a227-41d6-b206-45294cba3d56",
   "metadata": {},
   "outputs": [],
   "source": [
    "# Working point\n",
    "MV0 = 50\n",
    "DV0 = 50\n",
    "PV0 = 55"
   ]
  },
  {
   "cell_type": "code",
   "execution_count": 4,
   "id": "4b50d8e6-b4a0-4e70-ad09-40e8d1a23b4e",
   "metadata": {},
   "outputs": [],
   "source": [
    "#SOPDT from PV\n",
    "Kp = 0.398981565560627\n",
    "T1p = 165.56685644081972\n",
    "T2p = 3.645364787323084e-05\n",
    "thetap = 0.6102455489040157"
   ]
  },
  {
   "cell_type": "code",
   "execution_count": 5,
   "id": "60dc592b-dd47-4d1e-a836-30aaf67b1632",
   "metadata": {},
   "outputs": [],
   "source": [
    "# from DV\n",
    "Kd = 0.31148119513939204\n",
    "T1d = 167.0472401651847\n",
    "T2d = 14.406792795634894\n",
    "thetad = 9.375122302137418\n"
   ]
  },
  {
   "cell_type": "code",
   "execution_count": 6,
   "id": "5c01e2e1-5662-45e2-b0a1-b2ad6db30469",
   "metadata": {},
   "outputs": [],
   "source": [
    "gamma = 0.4 # Lower = more aggressive\n",
    "Kc,Ti,Td = IMCTuning(Kp,T1p,T2p,thetap,gamma,'SOPDT')"
   ]
  },
  {
   "cell_type": "code",
   "execution_count": 7,
   "id": "13d859e9-a296-41c9-afe8-b653fe17a054",
   "metadata": {},
   "outputs": [],
   "source": [
    "alpha = 1\n",
    "MVMin = 0\n",
    "MVMax = 100"
   ]
  },
  {
   "cell_type": "markdown",
   "id": "a25e8c35-2888-4cdf-8cd6-2c341d837ed5",
   "metadata": {},
   "source": [
    "# Settings"
   ]
  },
  {
   "cell_type": "code",
   "execution_count": 8,
   "id": "6541604b-432c-4554-8d4a-71137d895151",
   "metadata": {},
   "outputs": [],
   "source": [
    "settings = 'FF'\n",
    "\n",
    "if settings == 'Man':\n",
    "    #  OLP + no FF\n",
    "    ManPath = {0: True,TSim: True} \n",
    "    MVManPath = {0: MV0, TSim: MV0} \n",
    "    SPPath = {0: PV0, TSim: PV0} \n",
    "    DVPath = {0: 50.0, 1000: 60, TSim: 60.0} \n",
    "    ManFF = False\n",
    "    Title_loop = \"Open-loop\"\n",
    "    Title_FF = \"no feedforward\"\n",
    "    \n",
    "elif settings == 'ManFF':\n",
    "    # OLP + FF\n",
    "    ManPath = {0: True,TSim: True}\n",
    "    MVManPath = {0: MV0, TSim: MV0} \n",
    "    SPPath = {0: PV0, TSim: PV0} \n",
    "    DVPath = {0: 50.0, 1000: 60, TSim: 60.0}\n",
    "    ManFF = True\n",
    "    Title_loop = \"Open-loop\"\n",
    "    Title_FF = \"feedforward\"\n",
    "\n",
    "elif settings == 'FF':\n",
    "    # FF, CLP\n",
    "    ManPath = {0: True, 100: False, TSim: False}\n",
    "    MVManPath = {0: 100, TSim: MV0}\n",
    "    SPPath = {0: PV0, 800: PV0-10, TSim: PV0-10} \n",
    "    DVPath = {0: DV0, 1500: DV0+10, TSim: DV0+10}\n",
    "    ManFF = True\n",
    "    Title_loop = \"Closed-loop\"\n",
    "    Title_FF = \"feedforward\"\n",
    "    \n",
    "else:\n",
    "    # no FF, CLP\n",
    "    ManPath = {0: True, 750: False, TSim: False} \n",
    "    MVManPath = {0: MV0, TSim: MV0} \n",
    "    SPPath = {0: PV0, 800: PV0-10, TSim: PV0-10} \n",
    "    DVPath = {0: DV0, 1500: DV0+10, TSim: DV0+10} \n",
    "    ManFF = False\n",
    "    Title_loop = \"Closed-loop\"\n",
    "    Title_FF = \"no feedforward\"\n"
   ]
  },
  {
   "cell_type": "markdown",
   "id": "fe12d6fc-ac17-48a2-bad8-458f3b3169fd",
   "metadata": {},
   "source": [
    "# Run PID control"
   ]
  },
  {
   "cell_type": "code",
   "execution_count": 9,
   "id": "c57fd214-bd05-49a1-92bd-135425e420f8",
   "metadata": {},
   "outputs": [],
   "source": [
    "t = []\n",
    "SP = []\n",
    "MV = []\n",
    "Man = []\n",
    "MVMan = []\n",
    "MVFF = []\n",
    "MVP = []\n",
    "MVI = []\n",
    "MVD = []\n",
    "DV = []\n",
    "PV = []\n",
    "E = []\n",
    "\n",
    "MVFFDelay = []\n",
    "MVFFLL1 = []\n",
    "\n",
    "MVDelayp = []\n",
    "PV1p = []\n",
    "PV2p = []\n",
    "\n",
    "MVDelayd = []\n",
    "PV1d = []\n",
    "PV2d = []\n",
    "\n",
    "def Control():\n",
    "\n",
    "    global t,SP,MV,Man,ManFF,MVMan,MVFF,MVP,MVI,MVD,DV,PV,E,MVFFDelay,MVFFLL1,MVDelayp,PV1p,PV2p,MVDelayd,PV1d,PV2d\n",
    "\n",
    "    for i in range(0,N):\n",
    "        t.append(i*Ts)\n",
    "\n",
    "        PV.append(lab.T1)\n",
    "        # Generate signals SP and DV\n",
    "        SelectPath_RT(SPPath,t,SP)\n",
    "        SelectPath_RT(DVPath,t,DV)\n",
    "\n",
    "        # Feedforward implementation \n",
    "        Delay_RT(DV - DV0*np.ones_like(DV),np.max([thetad-thetap,0]),Ts,MVFFDelay) # ones_likes return an array of ones with the same shape and type as a given array\n",
    "        LeadLag_RT(MVFFDelay,-Kd/Kp,T1p,T1d,Ts,MVFFLL1)\n",
    "        LeadLag_RT(MVFFLL1,int(ManFF),T2p,T2d,Ts,MVFF)    # If ActivateFF is false, processe gain will be 0 => int(false) = 0 \n",
    "\n",
    "        # Manual signals generation : On / Off and values\n",
    "        SelectPath_RT(ManPath,t,Man)\n",
    "        SelectPath_RT(MVManPath,t,MVMan)\n",
    "\n",
    "        # PID control action\n",
    "\n",
    "        PID_RT(SP,PV,Man,MVMan,MVFF,Kc,Ti,Td,alpha,Ts,MVMin,MVMax,MV,MVP,MVI,MVD,E,ManFF,PV0)\n",
    "\n",
    "        lab.Q1(MV[-1])\n",
    "        lab.Q2(DV[-1])\n",
    "        #MV.append(MVValue)\n",
    "        #DV.append(DVValue) \n",
    "        \n",
    "        i = i + 1\n",
    "        time.sleep(Ts)\n",
    "        \n",
    "        l1.set_data(t,MV)\n",
    "        l2.set_data(t,PV)\n",
    "        l3.set_data(t,DV)\n",
    "\n",
    "        clear_output(wait=True)\n",
    "\n",
    "        # Remove if increasing x-axis length is not desired\n",
    "        ax1.set_xlim(0, t[-1]+1)\n",
    "        ax2.set_xlim(0, t[-1]+1)\n",
    "        ax3.set_xlim(0, t[-1]+1)\n",
    "\n",
    "        if i > 1:\n",
    "            ax1.set_ylim(myRound(np.min(MV),5)-5, myRound(np.max(MV),5)+5)\n",
    "            ax2.set_ylim(myRound(np.min(PV),5)-5, myRound(np.max(PV),5)+5)\n",
    "            ax3.set_ylim(myRound(np.min(DV),5)-5, myRound(np.max(DV),5)+5)        \n",
    "\n",
    "        display(fig)\n",
    "\n",
    "\n",
    "    lab.close()\n",
    "\n",
    "    # Save data into a file\n",
    "    now = datetime.now()\n",
    "    date_time = now.strftime(\"%Y-%m-%d-%Hh%M\")\n",
    "    t = np.array(t)\n",
    "    MV = np.array(MV)\n",
    "    PV = np.array(PV)\n",
    "    DV = np.array(DV)\n",
    "    my_data = np.vstack((t.T,MV.T,PV.T,DV.T))\n",
    "    my_data = my_data.T\n",
    "    nameFile = 'Data/Open_loop_experiment_on_' + settings + '_' + date_time + '.txt'\n",
    "    if not os.path.exists('Data'):\n",
    "        os.makedirs('Data')\n",
    "    np.savetxt(nameFile,my_data,delimiter=',',header='t,MV,PV,DV',comments='')"
   ]
  },
  {
   "cell_type": "markdown",
   "id": "99fdfac0-4780-4864-b189-1881846af46e",
   "metadata": {},
   "source": [
    "# Plots initialisation"
   ]
  },
  {
   "cell_type": "code",
   "execution_count": 10,
   "id": "b5c58117-228d-456b-bbab-a857f85697b6",
   "metadata": {},
   "outputs": [
    {
     "name": "stdout",
     "output_type": "stream",
     "text": [
      "TCLab version 0.4.9\n",
      "Arduino Leonardo connected on port COM4 at 115200 baud.\n",
      "TCLab Firmware 1.4.3 Arduino Leonardo/Micro.\n"
     ]
    },
    {
     "ename": "IndexError",
     "evalue": "list index out of range",
     "output_type": "error",
     "traceback": [
      "\u001b[1;31m---------------------------------------------------------------------------\u001b[0m",
      "\u001b[1;31mIndexError\u001b[0m                                Traceback (most recent call last)",
      "\u001b[1;32m~\\AppData\\Local\\Temp\\ipykernel_25220\\419328364.py\u001b[0m in \u001b[0;36m<module>\u001b[1;34m\u001b[0m\n\u001b[0;32m     25\u001b[0m \u001b[0mPV\u001b[0m \u001b[1;33m=\u001b[0m \u001b[1;33m[\u001b[0m\u001b[1;33m]\u001b[0m\u001b[1;33m\u001b[0m\u001b[1;33m\u001b[0m\u001b[0m\n\u001b[0;32m     26\u001b[0m \u001b[1;33m\u001b[0m\u001b[0m\n\u001b[1;32m---> 27\u001b[1;33m \u001b[0mControl\u001b[0m\u001b[1;33m(\u001b[0m\u001b[1;33m)\u001b[0m\u001b[1;33m\u001b[0m\u001b[1;33m\u001b[0m\u001b[0m\n\u001b[0m",
      "\u001b[1;32m~\\AppData\\Local\\Temp\\ipykernel_25220\\160240806.py\u001b[0m in \u001b[0;36mControl\u001b[1;34m()\u001b[0m\n\u001b[0;32m     48\u001b[0m         \u001b[1;31m# PID control action\u001b[0m\u001b[1;33m\u001b[0m\u001b[1;33m\u001b[0m\u001b[1;33m\u001b[0m\u001b[0m\n\u001b[0;32m     49\u001b[0m \u001b[1;33m\u001b[0m\u001b[0m\n\u001b[1;32m---> 50\u001b[1;33m         \u001b[0mPID_RT\u001b[0m\u001b[1;33m(\u001b[0m\u001b[0mSP\u001b[0m\u001b[1;33m,\u001b[0m\u001b[0mPV\u001b[0m\u001b[1;33m,\u001b[0m\u001b[0mMan\u001b[0m\u001b[1;33m,\u001b[0m\u001b[0mMVMan\u001b[0m\u001b[1;33m,\u001b[0m\u001b[0mMVFF\u001b[0m\u001b[1;33m,\u001b[0m\u001b[0mKc\u001b[0m\u001b[1;33m,\u001b[0m\u001b[0mTi\u001b[0m\u001b[1;33m,\u001b[0m\u001b[0mTd\u001b[0m\u001b[1;33m,\u001b[0m\u001b[0malpha\u001b[0m\u001b[1;33m,\u001b[0m\u001b[0mTs\u001b[0m\u001b[1;33m,\u001b[0m\u001b[0mMVMin\u001b[0m\u001b[1;33m,\u001b[0m\u001b[0mMVMax\u001b[0m\u001b[1;33m,\u001b[0m\u001b[0mMV\u001b[0m\u001b[1;33m,\u001b[0m\u001b[0mMVP\u001b[0m\u001b[1;33m,\u001b[0m\u001b[0mMVI\u001b[0m\u001b[1;33m,\u001b[0m\u001b[0mMVD\u001b[0m\u001b[1;33m,\u001b[0m\u001b[0mE\u001b[0m\u001b[1;33m,\u001b[0m\u001b[0mManFF\u001b[0m\u001b[1;33m,\u001b[0m\u001b[0mPV0\u001b[0m\u001b[1;33m)\u001b[0m\u001b[1;33m\u001b[0m\u001b[1;33m\u001b[0m\u001b[0m\n\u001b[0m\u001b[0;32m     51\u001b[0m \u001b[1;33m\u001b[0m\u001b[0m\n\u001b[0;32m     52\u001b[0m         \u001b[0mlab\u001b[0m\u001b[1;33m.\u001b[0m\u001b[0mQ1\u001b[0m\u001b[1;33m(\u001b[0m\u001b[0mMV\u001b[0m\u001b[1;33m[\u001b[0m\u001b[1;33m-\u001b[0m\u001b[1;36m1\u001b[0m\u001b[1;33m]\u001b[0m\u001b[1;33m)\u001b[0m\u001b[1;33m\u001b[0m\u001b[1;33m\u001b[0m\u001b[0m\n",
      "\u001b[1;32mc:\\Users\\Flori\\Documents\\repos\\Control_theory_software\\package_LAB.py\u001b[0m in \u001b[0;36mPID_RT\u001b[1;34m(SP, PV, Man, MVMan, MVFF, Kc, Ti, Td, alpha, Ts, MVMin, MVMax, MV, MVP, MVI, MVD, E, ManFF, PVInit, method)\u001b[0m\n\u001b[0;32m     75\u001b[0m     \u001b[1;34m'''Activation Feedforward'''\u001b[0m\u001b[1;33m\u001b[0m\u001b[1;33m\u001b[0m\u001b[0m\n\u001b[0;32m     76\u001b[0m     \u001b[1;32mif\u001b[0m \u001b[0mManFF\u001b[0m\u001b[1;33m:\u001b[0m\u001b[1;33m\u001b[0m\u001b[1;33m\u001b[0m\u001b[0m\n\u001b[1;32m---> 77\u001b[1;33m         \u001b[0mMVFFI\u001b[0m \u001b[1;33m=\u001b[0m \u001b[0mMVFF\u001b[0m\u001b[1;33m[\u001b[0m\u001b[1;33m-\u001b[0m\u001b[1;36m1\u001b[0m\u001b[1;33m]\u001b[0m\u001b[1;33m\u001b[0m\u001b[1;33m\u001b[0m\u001b[0m\n\u001b[0m\u001b[0;32m     78\u001b[0m     \u001b[1;32melse\u001b[0m\u001b[1;33m:\u001b[0m\u001b[1;33m\u001b[0m\u001b[1;33m\u001b[0m\u001b[0m\n\u001b[0;32m     79\u001b[0m         \u001b[0mMVFFI\u001b[0m \u001b[1;33m=\u001b[0m \u001b[1;36m0\u001b[0m\u001b[1;33m\u001b[0m\u001b[1;33m\u001b[0m\u001b[0m\n",
      "\u001b[1;31mIndexError\u001b[0m: list index out of range"
     ]
    },
    {
     "data": {
      "image/png": "[encoded data removed]",
      "text/plain": [
       "<Figure size 1584x864 with 3 Axes>"
      ]
     },
     "metadata": {
      "needs_background": "light"
     },
     "output_type": "display_data"
    }
   ],
   "source": [
    "fig, (ax1, ax2, ax3) = plt.subplots(3,1)\n",
    "fig.set_figheight(12)\n",
    "fig.set_figwidth(22)\n",
    "\n",
    "l1, = ax1.step([0,1],[0,100],'b-',linewidth=2,label='MV',where='post')\n",
    "ax1.set_ylabel('Value of MV [%]')\n",
    "ax1.set_title('Closed-loop experiment on TCLab')\n",
    "ax1.legend(loc='best')\n",
    "\n",
    "l2, = ax2.step([0,1],[0,100],'g-',linewidth=2,label='PV',where='post')\n",
    "ax2.set_ylabel('Value of PV [°C]')\n",
    "ax2.legend(loc='best')\n",
    "\n",
    "l3, = ax3.step([0,1],[0,100],'r-',linewidth=2,label='DV',where='post')\n",
    "ax3.set_xlabel('Time [s]')\n",
    "ax3.set_ylabel('Value of DV [%]')\n",
    "ax3.legend(loc='best') \n",
    "\n",
    "lab = tclab.TCLab()\n",
    "\n",
    "t = []\n",
    "i = 0\n",
    "MV = []\n",
    "DV = []\n",
    "PV = []\n",
    "\n",
    "Control()"
   ]
  },
  {
   "cell_type": "code",
   "execution_count": null,
   "id": "651eda23-c4f6-4f1d-855f-68844008f6e9",
   "metadata": {},
   "outputs": [],
   "source": []
  }
 ],
 "metadata": {
  "interpreter": {
   "hash": "1724bf3df077bf387463ebefe157489bf90a98ef209ad80e847a9a1c556dfd61"
  },
  "kernelspec": {
   "display_name": "Python 3.7.6 64-bit",
   "language": "python",
   "name": "python3"
  },
  "language_info": {
   "codemirror_mode": {
    "name": "ipython",
    "version": 3
   },
   "file_extension": ".py",
   "mimetype": "text/x-python",
   "name": "python",
   "nbconvert_exporter": "python",
   "pygments_lexer": "ipython3",
   "version": "3.7.6"
  }
 },
 "nbformat": 4,
 "nbformat_minor": 5
}
