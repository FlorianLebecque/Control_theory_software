{
 "cells": [
  {
   "cell_type": "markdown",
   "id": "f012e9e6-a0ad-4b1e-84a8-4d281698fa24",
   "metadata": {},
   "source": [
    "# TCLab_CLP_PID_FF"
   ]
  },
  {
   "cell_type": "code",
   "execution_count": 14,
   "id": "de54939a-214f-4778-a5cb-11365bc70fe1",
   "metadata": {},
   "outputs": [],
   "source": [
    "import numpy as np\n",
    "import matplotlib.pyplot as plt\n",
    "from IPython.display import display, clear_output\n",
    "\n",
    "from datetime import datetime\n",
    "import tclab\n",
    "import time\n",
    "\n",
    "import os\n",
    "\n",
    "from matplotlib import colors as mcolors\n",
    "\n",
    "import package_DBR\n",
    "from package_DBR import myRound, SelectPath_RT, Delay_RT, FO_RT, FOPDT, SOPDT, FOPDT_cost, SOPDT_cost, Process, Bode\n",
    "\n",
    "import package_LAB\n",
    "from package_LAB import LeadLag_RT, PID_RT, IMCTuning\n",
    "\n",
    "from importlib import reload\n",
    "package_DBR = reload(package_DBR)\n",
    "package_LAB = reload(package_LAB)"
   ]
  },
  {
   "cell_type": "code",
   "execution_count": 15,
   "id": "145e7929-a5f6-4bcd-af81-b6bdead21c58",
   "metadata": {},
   "outputs": [],
   "source": [
    "TSim = 2000\n",
    "Ts = 1\n",
    "N = int(TSim/Ts) + 1"
   ]
  },
  {
   "cell_type": "code",
   "execution_count": 16,
   "id": "9901d9f5-a227-41d6-b206-45294cba3d56",
   "metadata": {},
   "outputs": [],
   "source": [
    "# Working point\n",
    "MV0 = 50\n",
    "DV0 = 50\n",
    "PV0 = 55"
   ]
  },
  {
   "cell_type": "code",
   "execution_count": 17,
   "id": "4b50d8e6-b4a0-4e70-ad09-40e8d1a23b4e",
   "metadata": {},
   "outputs": [],
   "source": [
    "#SOPDT from PV\n",
    "Kp = 0.398981565560627\n",
    "T1p = 165.56685644081972\n",
    "T2p = 3.645364787323084e-05\n",
    "thetap = 0.6102455489040157"
   ]
  },
  {
   "cell_type": "code",
   "execution_count": 18,
   "id": "60dc592b-dd47-4d1e-a836-30aaf67b1632",
   "metadata": {},
   "outputs": [],
   "source": [
    "# from DV\n",
    "Kd = 0.31148119513939204\n",
    "T1d = 167.0472401651847\n",
    "T2d = 14.406792795634894\n",
    "thetad = 9.375122302137418\n"
   ]
  },
  {
   "cell_type": "code",
   "execution_count": 19,
   "id": "5c01e2e1-5662-45e2-b0a1-b2ad6db30469",
   "metadata": {},
   "outputs": [],
   "source": [
    "gamma = 0.4 # Lower = more aggressive\n",
    "Kc,Ti,Td = IMCTuning(Kp,T1p,T2p,thetap,gamma,'SOPDT')"
   ]
  },
  {
   "cell_type": "code",
   "execution_count": 20,
   "id": "13d859e9-a296-41c9-afe8-b653fe17a054",
   "metadata": {},
   "outputs": [],
   "source": [
    "alpha = 1\n",
    "MVMin = 0\n",
    "MVMax = 100"
   ]
  },
  {
   "cell_type": "code",
   "execution_count": 12,
   "id": "6541604b-432c-4554-8d4a-71137d895151",
   "metadata": {},
   "outputs": [],
   "source": [
    "settings = 'Man'\n",
    "\n",
    "if settings == 'Man':\n",
    "    #  OLP + no FF\n",
    "    ManPath = {0: True,TSim: True} \n",
    "    MVManPath = {0: MV0, TSim: MV0} \n",
    "    SPPath = {0: PV0, TSim: PV0} \n",
    "    DVPath = {0: 50.0, 1000: 60, TSim: 60.0} \n",
    "    ManFF = False\n",
    "    Title_loop = \"Open-loop\"\n",
    "    Title_FF = \"no feedforward\"\n",
    "    \n",
    "elif settings == 'ManFF':\n",
    "    # OLP + FF\n",
    "    ManPath = {0: True,TSim: True}\n",
    "    MVManPath = {0: MV0, TSim: MV0} \n",
    "    SPPath = {0: PV0, TSim: PV0} \n",
    "    DVPath = {0: 50.0, 1000: 60, TSim: 60.0}\n",
    "    ManFF = True\n",
    "    Title_loop = \"Open-loop\"\n",
    "    Title_FF = \"feedforward\"\n",
    "\n",
    "elif settings == 'FF':\n",
    "    # FF, CLP\n",
    "    ManPath = {0: True, 750: False, TSim: False}\n",
    "    MVManPath = {0: MV0, TSim: MV0}\n",
    "    SPPath = {0: PV0, 800: PV0-10, TSim: PV0-10} \n",
    "    DVPath = {0: DV0, 1500: DV0+10, TSim: DV0+10}\n",
    "    ManFF = True\n",
    "    Title_loop = \"Closed-loop\"\n",
    "    Title_FF = \"feedforward\"\n",
    "    \n",
    "else:\n",
    "    # no FF, CLP\n",
    "    ManPath = {0: True, 750: False, TSim: False} \n",
    "    MVManPath = {0: MV0, TSim: MV0} \n",
    "    SPPath = {0: PV0, 800: PV0-10, TSim: PV0-10} \n",
    "    DVPath = {0: DV0, 1500: DV0+10, TSim: DV0+10} \n",
    "    ManFF = False\n",
    "    Title_loop = \"Closed-loop\"\n",
    "    Title_FF = \"no feedforward\"\n"
   ]
  },
  {
   "cell_type": "code",
   "execution_count": 22,
   "id": "c57fd214-bd05-49a1-92bd-135425e420f8",
   "metadata": {},
   "outputs": [
    {
     "ename": "IndentationError",
     "evalue": "unexpected indent (Temp/ipykernel_7056/2471435621.py, line 54)",
     "output_type": "error",
     "traceback": [
      "\u001b[1;36m  File \u001b[1;32m\"C:\\Users\\sebas\\AppData\\Local\\Temp/ipykernel_7056/2471435621.py\"\u001b[1;36m, line \u001b[1;32m54\u001b[0m\n\u001b[1;33m    if ExpType == 'StepExperiment':\u001b[0m\n\u001b[1;37m    ^\u001b[0m\n\u001b[1;31mIndentationError\u001b[0m\u001b[1;31m:\u001b[0m unexpected indent\n"
     ]
    }
   ],
   "source": [
    "t = []\n",
    "SP = []\n",
    "MV = []\n",
    "Man = []\n",
    "MVMan = []\n",
    "MVFF = []\n",
    "MVP = []\n",
    "MVI = []\n",
    "MVD = []\n",
    "DV = []\n",
    "PV = []\n",
    "E = []\n",
    "\n",
    "MVFFDelay = []\n",
    "MVFFLL1 = []\n",
    "\n",
    "MVDelayp = []\n",
    "PV1p = []\n",
    "PV2p = []\n",
    "\n",
    "MVDelayd = []\n",
    "PV1d = []\n",
    "PV2d = []\n",
    "\n",
    "lab = tclab.TCLab()\n",
    "\n",
    "for i in range(0,N):\n",
    "    t.append(i*Ts)\n",
    "\n",
    "    # Generate signals SP and DV\n",
    "    SelectPath_RT(SPPath,t,SP)\n",
    "    SelectPath_RT(DVPath,t,DV)\n",
    "\n",
    "    # Feedforward implementation \n",
    "    Delay_RT(DV - DV0*np.ones_like(DV),np.max([thetad-thetap,0]),Ts,MVFFDelay) # ones_likes return an array of ones with the same shape and type as a given array\n",
    "    LeadLag_RT(MVFFDelay,-Kd/Kp,T1p,T1d,Ts,MVFFLL1)\n",
    "    LeadLag_RT(MVFFLL1,int(ManFF),T2p,T2d,Ts,MVFF)    # If ActivateFF is false, processe gain will be 0 => int(false) = 0 \n",
    "\n",
    "    # Manual signals generation : On / Off and values\n",
    "    SelectPath_RT(ManPath,t,Man)\n",
    "    SelectPath_RT(MVManPath,t,MVMan)\n",
    "\n",
    "    # PID control action\n",
    "    PID_RT(SP,PV,Man,MVMan,MVFF,Kc,Ti,Td,alpha,Ts,MVMin,MVMax,MV,MVP,MVI,MVD,E,ManFF,PV0)\n",
    "\n",
    "    lab.Q1(MV[-1])\n",
    "    lab.Q2(DV[-1])\n",
    "    #MV.append(MVValue)\n",
    "    #DV.append(DVValue) \n",
    "\n",
    "    PV.append(lab.T1);\n",
    "    \n",
    "\n",
    "# Save data into a file\n",
    "now = datetime.now()\n",
    "date_time = now.strftime(\"%Y-%m-%d-%Hh%M\")\n",
    "t = np.array(t)\n",
    "MV = np.array(MV)\n",
    "PV = np.array(PV)\n",
    "DV = np.array(DV)\n",
    "my_data = np.vstack((t.T,MV.T,PV.T,DV.T))\n",
    "my_data = my_data.T\n",
    "nameFile = 'Data/Open_loop_experiment_on_' + ExpVariable + '_' + date_time + '.txt'\n",
    "if not os.path.exists('Data'):\n",
    "    os.makedirs('Data')\n",
    "np.savetxt(nameFile,my_data,delimiter=',',header='t,MV,PV,DV',comments='')"
   ]
  },
  {
   "cell_type": "code",
   "execution_count": null,
   "id": "651eda23-c4f6-4f1d-855f-68844008f6e9",
   "metadata": {},
   "outputs": [],
   "source": []
  }
 ],
 "metadata": {
  "kernelspec": {
   "display_name": "Python 3 (ipykernel)",
   "language": "python",
   "name": "python3"
  },
  "language_info": {
   "codemirror_mode": {
    "name": "ipython",
    "version": 3
   },
   "file_extension": ".py",
   "mimetype": "text/x-python",
   "name": "python",
   "nbconvert_exporter": "python",
   "pygments_lexer": "ipython3",
   "version": "3.9.7"
  }
 },
 "nbformat": 4,
 "nbformat_minor": 5
}
