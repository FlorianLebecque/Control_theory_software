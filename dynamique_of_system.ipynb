{
 "cells": [
  {
   "cell_type": "markdown",
   "metadata": {},
   "source": [
    "# Dynamque du system TClap\n",
    "\n",
    "## Données sur exp MV\n",
    "\n",
    "| #  | value   |\n",
    "|----|---------|\n",
    "| a  | 0.13    |\n",
    "| kp | 0.39    |\n",
    "| Tu | 11.30s  |\n",
    "| Tg | 156.45s |\n",
    "| t1 | 67.74s  |\n",
    "| t2 | 51.6s   |\n",
    "\n",
    "## Données sur exp DV\n",
    "\n",
    "| #  | value   |\n",
    "|----|---------|\n",
    "| a  | 0.08    |\n",
    "| kp | 0.31    |\n",
    "| Tu | 35.96s  |\n",
    "| Tg | 215.75s |\n",
    "| t1 | 90.75s  |\n",
    "| t2 | 114.73s |"
   ]
  }
 ],
 "metadata": {
  "language_info": {
   "name": "python"
  },
  "orig_nbformat": 4
 },
 "nbformat": 4,
 "nbformat_minor": 2
}
